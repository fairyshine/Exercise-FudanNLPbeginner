{
 "cells": [
  {
   "cell_type": "code",
   "execution_count": 1,
   "metadata": {},
   "outputs": [],
   "source": [
    "import json"
   ]
  },
  {
   "cell_type": "markdown",
   "metadata": {},
   "source": [
    "# 1. 数据筛选\n",
    "把SNLI数据集中gold_label值为‘-’的去除。"
   ]
  },
  {
   "cell_type": "markdown",
   "metadata": {},
   "source": [
    "## 训练集"
   ]
  },
  {
   "cell_type": "code",
   "execution_count": null,
   "metadata": {},
   "outputs": [],
   "source": [
    "Dataset=[];\n",
    "NewDataset=[];\n",
    "with open('Dataset/snli_1.0_train.jsonl','r') as f:\n",
    "    for line in f:\n",
    "        Dataset.append(json.loads(line));\n",
    "\n",
    "for data in Dataset:\n",
    "    if data['gold_label'] in ['entailment','contradiction','neutral']:\n",
    "        selected={};\n",
    "        selected[\"gold_label\"]=data[\"gold_label\"];\n",
    "        selected[\"sentence1\"]=data[\"sentence1\"];\n",
    "        selected[\"sentence2\"]=data[\"sentence2\"];\n",
    "        NewDataset.append(selected);\n",
    "\n",
    "with open('Dataset/train.jsonl','w') as f:\n",
    "    for data in NewDataset:\n",
    "        json.dump(data, f,ensure_ascii=False)\n",
    "        f.write('\\n')"
   ]
  },
  {
   "cell_type": "markdown",
   "metadata": {},
   "source": [
    "## 后两个一样的"
   ]
  },
  {
   "cell_type": "code",
   "execution_count": null,
   "metadata": {},
   "outputs": [],
   "source": [
    "Dataset=[];\n",
    "NewDataset=[];\n",
    "with open('Dataset/snli_1.0_dev.jsonl','r') as f:\n",
    "    for line in f:\n",
    "        Dataset.append(json.loads(line));\n",
    "\n",
    "for data in Dataset:\n",
    "    if data['gold_label'] in ['entailment','contradiction','neutral']:\n",
    "        selected={};\n",
    "        selected[\"gold_label\"]=data[\"gold_label\"];\n",
    "        selected[\"sentence1\"]=data[\"sentence1\"];\n",
    "        selected[\"sentence2\"]=data[\"sentence2\"];\n",
    "        NewDataset.append(selected);\n",
    "\n",
    "with open('Dataset/dev.jsonl','w') as f:\n",
    "    for data in NewDataset:\n",
    "        json.dump(data, f,ensure_ascii=False)\n",
    "        f.write('\\n')"
   ]
  },
  {
   "cell_type": "code",
   "execution_count": null,
   "metadata": {},
   "outputs": [],
   "source": [
    "Dataset=[];\n",
    "NewDataset=[];\n",
    "with open('Dataset/snli_1.0_test.jsonl','r') as f:\n",
    "    for line in f:\n",
    "        Dataset.append(json.loads(line));\n",
    "\n",
    "for data in Dataset:\n",
    "    if data['gold_label'] in ['entailment','contradiction','neutral']:\n",
    "        selected={};\n",
    "        selected[\"gold_label\"]=data[\"gold_label\"];\n",
    "        selected[\"sentence1\"]=data[\"sentence1\"];\n",
    "        selected[\"sentence2\"]=data[\"sentence2\"];\n",
    "        NewDataset.append(selected);\n",
    "\n",
    "with open('Dataset/test.jsonl','w') as f:\n",
    "    for data in NewDataset:\n",
    "        json.dump(data, f,ensure_ascii=False)\n",
    "        f.write('\\n')"
   ]
  },
  {
   "cell_type": "markdown",
   "metadata": {},
   "source": [
    "# 2. 生成词汇字典、最大句长"
   ]
  },
  {
   "cell_type": "code",
   "execution_count": 2,
   "metadata": {},
   "outputs": [],
   "source": [
    "Dataset=[]\n",
    "phraseList=[]\n",
    "\n",
    "with open('Dataset/train.jsonl','r') as f:\n",
    "    for line in f:\n",
    "        Dataset.append(json.loads(line));\n",
    "\n",
    "with open('Dataset/dev.jsonl','r') as f:\n",
    "    for line in f:\n",
    "        Dataset.append(json.loads(line));\n",
    "\n",
    "with open('Dataset/test.jsonl','r') as f:\n",
    "    for line in f:\n",
    "        Dataset.append(json.loads(line));\n",
    "\n",
    "for data in Dataset:\n",
    "    phraseList.append(data[\"sentence1\"]);\n",
    "    phraseList.append(data[\"sentence2\"]);"
   ]
  },
  {
   "cell_type": "code",
   "execution_count": null,
   "metadata": {},
   "outputs": [],
   "source": [
    "len(\"A man is surfing in a bodysuit in beautiful blue water.\".split(' '))"
   ]
  },
  {
   "cell_type": "code",
   "execution_count": 6,
   "metadata": {},
   "outputs": [
    {
     "name": "stdout",
     "output_type": "stream",
     "text": [
      "最大句长： 78\n",
      "词典大小： 57323\n"
     ]
    }
   ],
   "source": [
    "#统计单词出现频率\n",
    "wordNumDict={};\n",
    "#统计最大句长\n",
    "maxlen=0\n",
    "\n",
    "for phrase in phraseList:\n",
    "    wordList=phrase.split(' ');\n",
    "    if len(wordList) > maxlen:\n",
    "        maxlen=len(wordList)\n",
    "\n",
    "    for word in wordList:\n",
    "        littleword=word.lower() #所有字母转化为小写\n",
    "        if littleword not in wordNumDict:\n",
    "            wordNumDict[littleword]=1;\n",
    "        else:\n",
    "            wordNumDict[littleword]+=1;\n",
    "\n",
    "print('最大句长：',maxlen)\n",
    "print('词典大小：',len(wordNumDict))\n",
    "\n",
    "#词频的字典列表，倒序排列\n",
    "wordFreq=[]\n",
    "\n",
    "output=sorted(wordNumDict.items(),key=lambda x:x[1],reverse=True)\n",
    "\n",
    "for word in output:\n",
    "    wordFreq.append({word[0]:word[1]});\n",
    "\n",
    "#保存数据集\n",
    "with open('Dataset/wordFreq.jsonl','w') as f:\n",
    "    for data in wordFreq:\n",
    "        json.dump(data, f,ensure_ascii=False)\n",
    "        f.write('\\n')"
   ]
  },
  {
   "cell_type": "code",
   "execution_count": 4,
   "metadata": {},
   "outputs": [],
   "source": [
    "#完成word2idx.json\n",
    "word2idx={}\n",
    "\n",
    "for i in range(len(output)):\n",
    "    word2idx[output[i][0]]=i;\n",
    "\n",
    "with open('Dataset/word2idx.json','w') as f:\n",
    "        json.dump(word2idx, f,ensure_ascii=False)"
   ]
  },
  {
   "cell_type": "code",
   "execution_count": 5,
   "metadata": {},
   "outputs": [],
   "source": [
    "#测试：读取word2idx\n",
    "with open('Dataset/word2idx.json','r') as f:\n",
    "        test=json.load(f)"
   ]
  }
 ],
 "metadata": {
  "interpreter": {
   "hash": "9a4b0b103f443abab642cb805870998419f99b3b67480212ee124b95ac521b42"
  },
  "kernelspec": {
   "display_name": "Python 3.9.7 ('deep')",
   "language": "python",
   "name": "python3"
  },
  "language_info": {
   "codemirror_mode": {
    "name": "ipython",
    "version": 3
   },
   "file_extension": ".py",
   "mimetype": "text/x-python",
   "name": "python",
   "nbconvert_exporter": "python",
   "pygments_lexer": "ipython3",
   "version": "3.9.7"
  },
  "orig_nbformat": 4
 },
 "nbformat": 4,
 "nbformat_minor": 2
}
