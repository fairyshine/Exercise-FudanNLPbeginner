{
 "cells": [
  {
   "cell_type": "code",
   "execution_count": 1,
   "metadata": {},
   "outputs": [],
   "source": [
    "import numpy as np\n",
    "import pandas as pd\n",
    "\n",
    "import json"
   ]
  },
  {
   "cell_type": "markdown",
   "metadata": {},
   "source": [
    "# Part1 构造word embedding字典"
   ]
  },
  {
   "cell_type": "markdown",
   "metadata": {},
   "source": [
    "## 1.1 统计词频"
   ]
  },
  {
   "cell_type": "code",
   "execution_count": 2,
   "metadata": {},
   "outputs": [],
   "source": [
    "#首先构造词列表\n",
    "phraseList=[]\n",
    "\n",
    "#读取数据集                                   共222352条\n",
    "DS_train=pd.read_csv('Dataset/train.tsv',sep='\\t') #156060条\n",
    "DS_test=pd.read_csv('Dataset/test.tsv',sep='\\t') #66292条\n",
    "\n",
    "for phrase in DS_train['Phrase']:\n",
    "    phraseList.append(phrase)\n",
    "for phrase in DS_test['Phrase']:\n",
    "    phraseList.append(phrase)"
   ]
  },
  {
   "cell_type": "code",
   "execution_count": 3,
   "metadata": {},
   "outputs": [
    {
     "name": "stdout",
     "output_type": "stream",
     "text": [
      "19479\n"
     ]
    }
   ],
   "source": [
    "#统计单词出现频率\n",
    "wordNumDict={};\n",
    "\n",
    "for phrase in phraseList:\n",
    "    for word in phrase.split(' '):\n",
    "        littleword=word.lower() #所有字母转化为小写\n",
    "        if littleword not in wordNumDict:\n",
    "            wordNumDict[littleword]=1;\n",
    "        else:\n",
    "            wordNumDict[littleword]+=1;\n",
    "\n",
    "print(len(wordNumDict))"
   ]
  },
  {
   "cell_type": "code",
   "execution_count": null,
   "metadata": {},
   "outputs": [],
   "source": [
    "#词频的字典列表，倒序排列\n",
    "wordFreq=[]\n",
    "\n",
    "output=sorted(wordNumDict.items(),key=lambda x:x[1],reverse=True)\n",
    "\n",
    "for word in output:\n",
    "    wordFreq.append({word[0]:word[1]});\n",
    "\n",
    "#保存数据集\n",
    "with open('Dataset/wordFreq.jsonl','w') as f:\n",
    "    for data in wordFreq:\n",
    "        json.dump(data, f,ensure_ascii=False)\n",
    "        f.write('\\n')"
   ]
  },
  {
   "cell_type": "markdown",
   "metadata": {},
   "source": [
    "## 1.2 word embedding字典"
   ]
  },
  {
   "cell_type": "code",
   "execution_count": null,
   "metadata": {},
   "outputs": [],
   "source": [
    "word_To_num={}\n",
    "num_To_word={}\n",
    "\n",
    "for i,word in enumerate(output,0):\n",
    "    word=word[0];\n",
    "    num_To_word[i]=word;\n",
    "    word_To_num[word]=i;\n",
    "\n",
    "with open('Dataset/word_To_num.json','w') as f:\n",
    "    json.dump(word_To_num, f,ensure_ascii=False)\n",
    "\n",
    "with open('Dataset/num_To_word.json','w') as f:\n",
    "    json.dump(num_To_word, f,ensure_ascii=False)"
   ]
  },
  {
   "cell_type": "markdown",
   "metadata": {},
   "source": [
    "# Part2 转换成jsonl格式，分割数据集"
   ]
  },
  {
   "cell_type": "markdown",
   "metadata": {},
   "source": [
    "## 2.1 转换格式"
   ]
  },
  {
   "cell_type": "code",
   "execution_count": null,
   "metadata": {},
   "outputs": [],
   "source": [
    "#读取数据集\n",
    "DS_train=pd.read_csv('Dataset/train.tsv',sep='\\t') #156060条\n",
    "\n",
    "dataset=[ {} for _ in range(len(DS_train))]\n",
    "\n",
    "\n",
    "for i in range(len(dataset)):\n",
    "    phrase=DS_train.loc[i];\n",
    "    dataset[i]['PhraseId']=str(phrase['PhraseId']);\n",
    "    dataset[i]['SentenceId']=str(phrase['SentenceId']);\n",
    "    dataset[i]['Phrase']=phrase['Phrase'];\n",
    "    dataset[i]['Sentiment']=str(phrase['Sentiment']);"
   ]
  },
  {
   "cell_type": "code",
   "execution_count": null,
   "metadata": {},
   "outputs": [],
   "source": [
    "#保存数据集\n",
    "with open('Dataset/Dataset.jsonl','w') as f:\n",
    "    for data in dataset:\n",
    "        json.dump(data, f,ensure_ascii=False)\n",
    "        f.write('\\n')"
   ]
  },
  {
   "cell_type": "markdown",
   "metadata": {},
   "source": [
    "## 2.1（2） 单独执行"
   ]
  },
  {
   "cell_type": "code",
   "execution_count": null,
   "metadata": {},
   "outputs": [],
   "source": [
    "import json\n",
    "\n",
    "dataset=[];\n",
    "\n",
    "with open('Dataset/Dataset.jsonl','r') as f:\n",
    "        for line in f:\n",
    "            dataset.append(json.loads(line))\n",
    "\n",
    "for i in range(len(dataset)):\n",
    "    dataset[i]['PhraseId']=int(dataset[i]['PhraseId']);\n",
    "    dataset[i]['SentenceId']=int(dataset[i]['SentenceId']);\n",
    "    dataset[i]['Sentiment']=int(dataset[i]['Sentiment']);\n",
    "\n",
    "with open('Dataset/Dataset.jsonl','w') as f:\n",
    "    for data in dataset:\n",
    "        json.dump(data, f,ensure_ascii=False)\n",
    "        f.write('\\n')"
   ]
  },
  {
   "cell_type": "markdown",
   "metadata": {},
   "source": []
  },
  {
   "cell_type": "markdown",
   "metadata": {},
   "source": [
    "## 2.2 分割数据集 单独执行"
   ]
  },
  {
   "cell_type": "code",
   "execution_count": null,
   "metadata": {},
   "outputs": [],
   "source": [
    "import json\n",
    "\n",
    "dataset=[];\n",
    "\n",
    "with open('Dataset/Dataset.jsonl','r') as f:\n",
    "        for line in f:\n",
    "            dataset.append(json.loads(line))\n",
    "\n",
    "with open('Dataset/train.jsonl','w') as f:\n",
    "    for i in range(0,140454):\n",
    "        data=dataset[i];\n",
    "        json.dump(data, f,ensure_ascii=False)\n",
    "        f.write('\\n')\n",
    "\n",
    "with open('Dataset/test.jsonl','w') as f:\n",
    "    for i in range(140454,156060):\n",
    "        data=dataset[i];\n",
    "        json.dump(data, f,ensure_ascii=False)\n",
    "        f.write('\\n')"
   ]
  }
 ],
 "metadata": {
  "interpreter": {
   "hash": "9a4b0b103f443abab642cb805870998419f99b3b67480212ee124b95ac521b42"
  },
  "kernelspec": {
   "display_name": "Python 3.9.7 ('deep')",
   "language": "python",
   "name": "python3"
  },
  "language_info": {
   "codemirror_mode": {
    "name": "ipython",
    "version": 3
   },
   "file_extension": ".py",
   "mimetype": "text/x-python",
   "name": "python",
   "nbconvert_exporter": "python",
   "pygments_lexer": "ipython3",
   "version": "3.9.7"
  },
  "orig_nbformat": 4
 },
 "nbformat": 4,
 "nbformat_minor": 2
}
