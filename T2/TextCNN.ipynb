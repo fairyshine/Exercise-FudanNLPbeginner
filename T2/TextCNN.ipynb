{
 "cells": [
  {
   "cell_type": "code",
   "execution_count": 1,
   "metadata": {},
   "outputs": [],
   "source": [
    "import json\n",
    "\n",
    "import torch\n",
    "import torch.nn as nn\n",
    "import torch.nn.functional as F\n"
   ]
  },
  {
   "cell_type": "code",
   "execution_count": 2,
   "metadata": {},
   "outputs": [],
   "source": [
    "word_To_num={}\n",
    "num_To_word={}\n",
    "\n",
    "\n",
    "with open('Dataset/word_To_num.json','r') as f:\n",
    "    word_To_num=json.load(f)\n",
    "\n",
    "with open('Dataset/num_To_word.json','r') as f:\n",
    "    num_To_word=json.load(f)\n",
    "\n",
    "train_list=[]\n",
    "test_list=[]\n",
    "\n",
    "with open('Dataset/train.jsonl','r') as f:\n",
    "        for line in f:\n",
    "            train_list.append(json.loads(line))\n",
    "\n",
    "with open('Dataset/test.jsonl','r') as f:\n",
    "        for line in f:\n",
    "            test_list.append(json.loads(line))\n",
    "\n",
    "train_data_tensor=torch.zeros((140454,1,60,5))\n",
    "train_target_tensor=torch.zeros((140454,5))\n",
    "\n",
    "test_data_tensor=torch.zeros((15606,1,60,5))\n",
    "test_target_tensor=torch.zeros((15606,5))\n",
    "\n",
    "embeds = nn.Embedding(19479, 5)\n",
    "\n",
    "for i in range(0,len(train_list)):\n",
    "    phrase=train_list[i][\"Phrase\"].split(' ');\n",
    "    for j in range(0,len(phrase)):\n",
    "        train_data_tensor[i][0][j]=embeds(torch.LongTensor([word_To_num[phrase[j].lower()]]))\n",
    "    train_target_tensor[i][train_list[i][\"Sentiment\"]]=1\n",
    "\n",
    "for i in range(0,len(test_list)):\n",
    "    phrase=test_list[i][\"Phrase\"].split(' ');\n",
    "    for j in range(0,len(phrase)):\n",
    "        test_data_tensor[i][0][j]=embeds(torch.LongTensor([word_To_num[phrase[j].lower()]]))\n",
    "    test_target_tensor[i][train_list[i][\"Sentiment\"]]=1\n",
    "\n",
    "train_dataset=torch.utils.data.TensorDataset(train_data_tensor, train_target_tensor)\n",
    "test_dataset=torch.utils.data.TensorDataset(test_data_tensor, test_target_tensor)\n",
    "\n",
    "train_loader = torch.utils.data.DataLoader(train_dataset,batch_size=10,shuffle=True) #shuffle会在每个epoch里打乱顺序\n",
    "test_loader = torch.utils.data.DataLoader(test_dataset,batch_size=10,shuffle=True)"
   ]
  },
  {
   "cell_type": "code",
   "execution_count": 3,
   "metadata": {},
   "outputs": [],
   "source": [
    "class Net(nn.Module):\n",
    "    def __init__(self):\n",
    "        super(Net, self).__init__()\n",
    "        self.convs = nn.ModuleList(\n",
    "            [nn.Conv2d(1,16,(k,5)) for k in (2,3,4)])\n",
    "        self.dropout = nn.Dropout(0.5)\n",
    "        self.fc = nn.Linear(16*3, 5)\n",
    "\n",
    "    def conv_and_pool(self, x, conv):\n",
    "        x = F.relu(conv(x)).squeeze(3)\n",
    "        x = F.max_pool1d(x, x.size(2)).squeeze(2)\n",
    "        return x\n",
    "\n",
    "    def forward(self, x):\n",
    "        out = torch.cat([self.conv_and_pool(x, conv) for conv in self.convs], 1)\n",
    "        out = self.dropout(out)\n",
    "        out = self.fc(out)\n",
    "        return out\n",
    "net = Net()"
   ]
  },
  {
   "cell_type": "code",
   "execution_count": 4,
   "metadata": {},
   "outputs": [],
   "source": [
    "criterion = nn.CrossEntropyLoss()\n",
    "optimizer = torch.optim.SGD(net.parameters(), lr=0.001, momentum=0.9)"
   ]
  },
  {
   "cell_type": "code",
   "execution_count": 5,
   "metadata": {},
   "outputs": [],
   "source": [
    "for epoch in range(1):  # loop over the dataset multiple times\n",
    "    running_loss = 0.0\n",
    "    for i, data in enumerate(train_loader, start=0):\n",
    "        # get the inputs; data is a list of [inputs, labels]\n",
    "        inputs, labels = data\n",
    "\n",
    "        # zero the parameter gradients\n",
    "        optimizer.zero_grad()\n",
    "\n",
    "        # forward + backward + optimize\n",
    "        outputs = net(inputs)\n",
    "        loss = criterion(outputs, labels)\n",
    "        loss.backward()\n",
    "        optimizer.step()\n",
    "\n",
    "        # print statistics\n",
    "        running_loss += loss.item()\n",
    "        if i % 10 == 9:    # print every 2000 mini-batches\n",
    "            print('[%d, %5d] loss: %.3f' %(epoch + 1, i + 1, running_loss / 10))\n",
    "            running_loss = 0.0\n",
    "\n",
    "print('Finished Training')"
   ]
  },
  {
   "cell_type": "markdown",
   "metadata": {},
   "source": [
    "PATH = './TextCNN.pth'\n",
    "torch.save(net.state_dict(), PATH)"
   ]
  },
  {
   "cell_type": "code",
   "execution_count": null,
   "metadata": {},
   "outputs": [],
   "source": []
  }
 ],
 "metadata": {
  "interpreter": {
   "hash": "9a4b0b103f443abab642cb805870998419f99b3b67480212ee124b95ac521b42"
  },
  "kernelspec": {
   "display_name": "Python 3.9.7 ('deep')",
   "language": "python",
   "name": "python3"
  },
  "language_info": {
   "codemirror_mode": {
    "name": "ipython",
    "version": 3
   },
   "file_extension": ".py",
   "mimetype": "text/x-python",
   "name": "python",
   "nbconvert_exporter": "python",
   "pygments_lexer": "ipython3",
   "version": "3.9.7"
  },
  "orig_nbformat": 4
 },
 "nbformat": 4,
 "nbformat_minor": 2
}
